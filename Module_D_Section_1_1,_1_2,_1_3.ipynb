{
  "nbformat": 4,
  "nbformat_minor": 0,
  "metadata": {
    "colab": {
      "provenance": [],
      "authorship_tag": "ABX9TyNjdFPMaZWXl0ip6d9XIT+N",
      "include_colab_link": true
    },
    "kernelspec": {
      "name": "python3",
      "display_name": "Python 3"
    },
    "language_info": {
      "name": "python"
    }
  },
  "cells": [
    {
      "cell_type": "markdown",
      "metadata": {
        "id": "view-in-github",
        "colab_type": "text"
      },
      "source": [
        "<a href=\"https://colab.research.google.com/github/CoolWolfy96/MAT421/blob/main/Module_D_Section_1_1%2C_1_2%2C_1_3.ipynb\" target=\"_parent\"><img src=\"https://colab.research.google.com/assets/colab-badge.svg\" alt=\"Open In Colab\"/></a>"
      ]
    },
    {
      "cell_type": "markdown",
      "source": [
        "**Introduction:** Linear Algebra in exact terms deals with systems of linear equations which are equations written as a₀x₀ + a₁x₁ + a₂x₂ ... + aₙxₙ = b.\n",
        "*   aₙ: constant coefficient  \n",
        "*   xₙ: unknown variables\n",
        "*   b: constant\n",
        "\n",
        "Alternatively this system can be written using matricies and vectors in the form Ax = b. Vectors can be thought of as 1d arrays and matricies as 2d arrays when coding.\n",
        "\n",
        "**Elements of Linear Algebra:** V is a **linear space** where V = ℝⁿ which is the set of all ordered sequences of real numbers of length n i.e. ∀x∀y (x,y) ∈ V. A **linear subspace** is a closed subset of V. A linear space can be represented in terms of a set of vectors called the **spanning set** of that linear space. The **column vectors** in a nxm matrix called A make a spanning set of the column space of A. **Linear Independence** is a property between vectors where a vector cannot be written as a linear combination of the other vectors. A special case of a spanning set where the vectors are also linearly independent is called a **basis**. The number of spanning vectors in a basis is denoted as the **dimension** of the subspace it represents. If vectors in that basis are the column vector of a matrix A, then the dimension is also called the **rank** of A. An orthonormal basis is a special case where vectors are all orthogonal to each other and have a magnitude of 1.\n"
      ],
      "metadata": {
        "id": "uuZmdk9F5Yud"
      }
    },
    {
      "cell_type": "code",
      "source": [
        "import numpy as np\n",
        "from numpy.linalg import det\n",
        "from numpy.linalg import inv\n",
        "from numpy.linalg import matrix_rank\n",
        "from numpy.linalg import solve\n",
        "import sympy\n",
        "\n",
        "# basic operations when dealing with matricies in python\n",
        "\n",
        "# addition\n",
        "A = np.array([[1,2,3],[4,5,6],[7,8,9]])\n",
        "B = np.array([[9,8,7],[6,5,4],[3,2,1]])\n",
        "print(\"Addition: \\n\" + str(A + B))\n",
        "\n",
        "# multiplication\n",
        "print(\"Multiplication: \\n\" + str(A * B))\n",
        "\n",
        "# determinant and inverse\n",
        "print(\"Determinant: \\n\" + str(det(A)))\n",
        "print(\"Inverse: \\n\" + str(inv(2*np.eye(4))))\n",
        "\n",
        "# dot and cross product\n",
        "A = np.array([1,2,3])\n",
        "B = np.array([9,8,7])\n",
        "print(\"Dot Product: \\n\" + str(np.dot(A,B)))\n",
        "print(\"Cross Product: \\n\" + str(np.cross(A,B)))\n",
        "\n",
        "# rref and rank\n",
        "A = np.array([[1,2,3],[4,5,6],[7,8,9]])\n",
        "M = Matrix([[1,2,3],[4,5,6],[7,8,9]])\n",
        "print(\"RREF: \\n\" + str(M.rref()))\n",
        "print(\"Rank: \\n\" + str(matrix_rank(A)))\n"
      ],
      "metadata": {
        "colab": {
          "base_uri": "https://localhost:8080/"
        },
        "id": "d2NI7SLQIj9a",
        "outputId": "944df779-4dc0-423a-8143-3636f3d23333"
      },
      "execution_count": 52,
      "outputs": [
        {
          "output_type": "stream",
          "name": "stdout",
          "text": [
            "Addition: \n",
            "[[10 10 10]\n",
            " [10 10 10]\n",
            " [10 10 10]]\n",
            "Multiplication: \n",
            "[[ 9 16 21]\n",
            " [24 25 24]\n",
            " [21 16  9]]\n",
            "Determinant: \n",
            "0.0\n",
            "Inverse: \n",
            "[[0.5 0.  0.  0. ]\n",
            " [0.  0.5 0.  0. ]\n",
            " [0.  0.  0.5 0. ]\n",
            " [0.  0.  0.  0.5]]\n",
            "Dot Product: \n",
            "46\n",
            "Cross Product: \n",
            "[-10  20 -10]\n",
            "RREF: \n",
            "(Matrix([\n",
            "[1, 0, -1],\n",
            "[0, 1,  2],\n",
            "[0, 0,  0]]), (0, 1))\n",
            "Rank: \n",
            "2\n"
          ]
        }
      ]
    },
    {
      "cell_type": "markdown",
      "source": [
        "An **eigenvalue** is a scalar that satifies the equation Ax = λx where A is a square matrix and x is an **eigenvector**."
      ],
      "metadata": {
        "id": "IgKwOpOQRJrd"
      }
    },
    {
      "cell_type": "code",
      "source": [
        "from numpy.linalg import eig\n",
        "\n",
        "# eigenvalues and eigenvectors using numpy\n",
        "A = np.array([[2,1,3],[1,2,3],[3,3,20]])\n",
        "A,B = eig(A)\n",
        "A = np.round(A,2)\n",
        "B = np.round(B,2)\n",
        "print(\"Eigenvalues: \\n\" + str(A))\n",
        "print(\"Eigenvectors: \\n\" + str(B))"
      ],
      "metadata": {
        "colab": {
          "base_uri": "https://localhost:8080/"
        },
        "id": "gaexR3EUW8-c",
        "outputId": "92a9b0b5-712b-4168-c2dc-c298619a15e3"
      },
      "execution_count": 53,
      "outputs": [
        {
          "output_type": "stream",
          "name": "stdout",
          "text": [
            "Eigenvalues: \n",
            "[21.  1.  2.]\n",
            "Eigenvectors: \n",
            "[[-0.16 -0.71 -0.69]\n",
            " [-0.16  0.71 -0.69]\n",
            " [-0.97 -0.    0.23]]\n"
          ]
        }
      ]
    },
    {
      "cell_type": "markdown",
      "source": [
        "**Linear Regression:** Given a problem of solving the matrix equation Ax = b, sometimes it is not possible to find x that satifies b. Instead, we find x that most closely approximates b. This can be calculated by summing up the elements of the matrix (y-b)^2 where y is the approximate values of b.\n",
        "This problem is called the **least-square problem** which can be solved for x by evaluating\n",
        "\n",
        "(A^T * A)^-1 * A^T * b.\n",
        "\n",
        "Another more numerically stable method involves finding the QR decomposition of A then solving the expression R^-1 * Q^T * b."
      ],
      "metadata": {
        "id": "9JGvNP4kZZea"
      }
    },
    {
      "cell_type": "code",
      "source": [
        "from numpy.linalg import qr\n",
        "from scipy import optimize\n",
        "import matplotlib.pyplot as plt\n",
        "\n",
        "A = np.array([[2,1,3],[1,2,3],[3,3,20]])\n",
        "Q, R = qr(A)\n",
        "Q = np.round(Q,2)\n",
        "R = np.round(R,2)\n",
        "\n",
        "print(\"Q: \\n\" + str(Q))\n",
        "print(\"R: \\n\" + str(R))\n",
        "\n",
        "x = np.linspace(0, 1, 101)\n",
        "y = 1 + x + x * np.random.random(len(x))\n",
        "\n",
        "def func(x, a, b):\n",
        "    y = a*x + b\n",
        "    return y\n",
        "\n",
        "alpha = optimize.curve_fit(func, xdata = x, ydata = y)[0]\n",
        "plt.figure(figsize = (10,8))\n",
        "plt.plot(x, y, 'b.')\n",
        "plt.plot(x, alpha[0]*x + alpha[1], 'r')\n",
        "plt.xlabel('x')\n",
        "plt.ylabel('y')\n",
        "plt.show()"
      ],
      "metadata": {
        "colab": {
          "base_uri": "https://localhost:8080/",
          "height": 835
        },
        "id": "awea5sWYe64w",
        "outputId": "7709f96c-5bed-4bdb-e05b-3a91f7e43d58"
      },
      "execution_count": 54,
      "outputs": [
        {
          "output_type": "stream",
          "name": "stdout",
          "text": [
            "Q: \n",
            "[[-0.53  0.62 -0.58]\n",
            " [-0.27 -0.77 -0.58]\n",
            " [-0.8  -0.15  0.58]]\n",
            "R: \n",
            "[[ -3.74  -3.47 -18.44]\n",
            " [  0.    -1.39  -3.55]\n",
            " [  0.     0.     8.08]]\n"
          ]
        },
        {
          "output_type": "display_data",
          "data": {
            "text/plain": [
              "<Figure size 1000x800 with 1 Axes>"
            ],
            "image/png": "[encoded data removed]"
          },
          "metadata": {}
        }
      ]
    }
  ]
}