{
  "nbformat": 4,
  "nbformat_minor": 0,
  "metadata": {
    "colab": {
      "provenance": [],
      "authorship_tag": "ABX9TyPzdjYIvbGyUbGVGEncQT+1",
      "include_colab_link": true
    },
    "kernelspec": {
      "name": "python3",
      "display_name": "Python 3"
    },
    "language_info": {
      "name": "python"
    }
  },
  "cells": [
    {
      "cell_type": "markdown",
      "metadata": {
        "id": "view-in-github",
        "colab_type": "text"
      },
      "source": [
        "<a href=\"https://colab.research.google.com/github/CoolWolfy96/MAT421/blob/main/Module_C_Section_19_1%2C_19%2C2%2C_19_3%2C_19_4_19_5.ipynb\" target=\"_parent\"><img src=\"https://colab.research.google.com/assets/colab-badge.svg\" alt=\"Open In Colab\"/></a>"
      ]
    },
    {
      "cell_type": "markdown",
      "source": [
        "**Root Finding Problem Statement:** One vital way of finding solutions of unknown variables for any equation, like ODEs, is making it homogeneous i.e. **zero on one side**. It may also be the case that we are trying to finding what value(s) makes the **dependent variable equal to zero** in an equation. Be it solving DiffEqs or time that a projectile lands, finding the solutions, a.k.a roots or zeroes, of an equation is useful. If finding an exact solution analytically is **prohibitive**, then an approximate solution can useful **despite margin of error**.\n",
        "\n",
        "\n",
        "**Tolerance:** In the context of the real world, error is fine as long as it doesn't change an outcome or can be accounted for. The amount of error that is acceptable is **tolerance** which is given as a range from the expected value. In this case, the expected value is zero and margin of error is the value of f(xᵣ). The **rate of convergence** of f(xᵣ) to zero after each guess or computation can give a good measure of how long you need to run an algorithm until it reaches an error within tolerance.\n",
        "\n",
        "**Bisection Method:** If a function is continuous where f(a)<f(c)<f(b) and f(c) = 0, then c can be found somewhere between the values a and b. If we let m to be the midpoint between a and b, then either f(m) = 0 or bisects the interval in which c lies. In any case, f(m) converges to zero and the method repeated until it is within tolerance.\n",
        "\n",
        "Below is an implementation of the bisection method using a while loop instead of recursion found in the textbook."
      ],
      "metadata": {
        "id": "cud79ATgpa2Z"
      }
    },
    {
      "cell_type": "code",
      "source": [
        "import numpy as np\n",
        "\n",
        "def my_bisection(f, a, b, tol):\n",
        "\n",
        "    if np.sign(f(a)) == np.sign(f(b)):\n",
        "        raise Exception(\"The scalars a and b do not bound a root\")\n",
        "\n",
        "    if f(a) > f(b):\n",
        "        a,b = b,a\n",
        "\n",
        "    m = (a + b)/2\n",
        "\n",
        "    while np.abs(f(m)) > tol:\n",
        "        if f(m) < 0:\n",
        "            a = m\n",
        "        elif f(m) > 0:\n",
        "            b = m\n",
        "        m = (a + b)/2\n",
        "\n",
        "    return m\n",
        "\n",
        "f = lambda x: x**2 - 2\n",
        "\n",
        "r1 = my_bisection(f, 0, 2, 0.1)\n",
        "print(\"r1 =\", r1)\n",
        "r01 = my_bisection(f, 0, 2, 0.01)\n",
        "print(\"r01 =\", r01)\n",
        "\n",
        "print(\"f(r1) =\", f(r1))\n",
        "print(\"f(r01) =\", f(r01))"
      ],
      "metadata": {
        "colab": {
          "base_uri": "https://localhost:8080/"
        },
        "id": "WN2oihiP8Vg2",
        "outputId": "d5fbffa8-a6b2-4f90-cf86-6bde989a9c4b"
      },
      "execution_count": 64,
      "outputs": [
        {
          "output_type": "stream",
          "name": "stdout",
          "text": [
            "r1 = 1.4375\n",
            "r01 = 1.4140625\n",
            "f(r1) = 0.06640625\n",
            "f(r01) = -0.00042724609375\n"
          ]
        }
      ]
    },
    {
      "cell_type": "markdown",
      "source": [
        "**Newton-Raphson Method:** Given a function is smooth and continuous, we make a guess about the value of r called x₀. We find the tangent line at x₀ of the function and find x₁ when the line crosses the x-axis. This step is repeated until f(xᵢ) is less than tolerance."
      ],
      "metadata": {
        "id": "tAJopQdSLXJN"
      }
    },
    {
      "cell_type": "code",
      "source": [
        "# From Textbook\n",
        "import numpy as np\n",
        "\n",
        "f = lambda x: x**2 - 2\n",
        "f_prime = lambda x: 2*x\n",
        "\n",
        "def my_newton(f, df, x0, tol):\n",
        "    # output is an estimation of the root of f\n",
        "    # using the Newton Raphson method\n",
        "    # recursive implementation\n",
        "    if abs(f(x0)) < tol:\n",
        "        return x0\n",
        "    else:\n",
        "        return my_newton(f, df, x0 - f(x0)/df(x0), tol)\n",
        "\n",
        "estimate = my_newton(f, f_prime, 1.5, 1e-6)\n",
        "print(\"estimate =\", estimate)\n",
        "print(\"sqrt(2) =\", np.sqrt(2))"
      ],
      "metadata": {
        "colab": {
          "base_uri": "https://localhost:8080/"
        },
        "id": "YIF-jrv3OVlO",
        "outputId": "f8ade216-6a8a-47d7-d703-6b77d5f469f6"
      },
      "execution_count": 75,
      "outputs": [
        {
          "output_type": "stream",
          "name": "stdout",
          "text": [
            "estimate = 1.4142135623746899\n",
            "sqrt(2) = 1.4142135623730951\n"
          ]
        }
      ]
    },
    {
      "cell_type": "markdown",
      "source": [
        "The important thing to note is that, unlike bisection method, the root you get may not be the one closest to your intial guess. This method can also be unstable if the derivative is close to zero and leads far from the actual root. In cases where you already have an approximation of the root, Newton-Raphson method converges faster than bisection."
      ],
      "metadata": {
        "id": "kqgzd45aOaOX"
      }
    }
  ]
}