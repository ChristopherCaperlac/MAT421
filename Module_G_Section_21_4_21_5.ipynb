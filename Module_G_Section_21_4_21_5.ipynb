{
  "nbformat": 4,
  "nbformat_minor": 0,
  "metadata": {
    "colab": {
      "provenance": [],
      "authorship_tag": "ABX9TyPpsR4nyUnhxFRBJxbraqps",
      "include_colab_link": true
    },
    "kernelspec": {
      "name": "python3",
      "display_name": "Python 3"
    },
    "language_info": {
      "name": "python"
    }
  },
  "cells": [
    {
      "cell_type": "markdown",
      "metadata": {
        "id": "view-in-github",
        "colab_type": "text"
      },
      "source": [
        "<a href=\"https://colab.research.google.com/github/ChristopherCaperlac/MAT421/blob/main/Module_G_Section_21_4_21_5.ipynb\" target=\"_parent\"><img src=\"https://colab.research.google.com/assets/colab-badge.svg\" alt=\"Open In Colab\"/></a>"
      ]
    },
    {
      "cell_type": "markdown",
      "source": [
        "**Simpson's Rule**: Instead of approximating a subinterval using rectangles or trapezoids, we can instead use quadratics. The area under the curve of these quadratics can be found with the formula h/3(f(xi-1)+4f(xi)+f(xi+1)) where xi-1, xi, and xi+1 are the three points that describe the quadratic and h is the half width or change in x divided by 2. This method also gives us an accuracy of O(h^4)."
      ],
      "metadata": {
        "id": "xmfq6FGSL9O9"
      }
    },
    {
      "cell_type": "code",
      "execution_count": 44,
      "metadata": {
        "colab": {
          "base_uri": "https://localhost:8080/"
        },
        "id": "kjQCrrBBI9L4",
        "outputId": "232942c3-6169-4b71-eb0b-1b166dd108a2"
      },
      "outputs": [
        {
          "output_type": "stream",
          "name": "stdout",
          "text": [
            "11.955446481799603\n",
            "0.1148998346003971\n"
          ]
        }
      ],
      "source": [
        "# from textbook Simpson's 1/3 rule\n",
        "import numpy as np\n",
        "\n",
        "a = 0\n",
        "b = np.pi\n",
        "n = 5 # must be odd n\n",
        "h = (b - a) / (n - 1)\n",
        "x = np.linspace(a, b, n)\n",
        "f = np.exp(x) * np.sin(x)\n",
        "\n",
        "# simplified sum for all subintervals\n",
        "simpAprox = (h/3) * (f[0] + 2*sum(f[:n-2:2]) \\\n",
        "            + 4*sum(f[1:n-1:2]) + f[n-1])\n",
        "simpError = 12.0703463164 - simpAprox\n",
        "\n",
        "print(simpAprox)\n",
        "print(simpError)"
      ]
    },
    {
      "cell_type": "markdown",
      "source": [
        "Boole's Rule uses 4th degree polynomials to approximate the integral of a function. These equations fall under a class of formulas called Newton-Cotes formulas which can be used for nth degree polynomials."
      ],
      "metadata": {
        "id": "aSu7YNiAYali"
      }
    },
    {
      "cell_type": "code",
      "source": [
        "# implementing Boole's Rule which uses quartics (4th degree) instead of quadratics\n",
        "# Boole's Rule is more accurate giving an accuracy of O(h^6).\n",
        "import numpy as np\n",
        "\n",
        "a = 0\n",
        "b = np.pi\n",
        "n = 5 # n % 4 == 1 must be true\n",
        "h = (b - a) / (n - 1)\n",
        "x = np.linspace(a, b, n)\n",
        "f = np.exp(x) * np.sin(x)\n",
        "\n",
        "# simplified sum for all subintervals\n",
        "simpAprox = (2*h/45) * (7*f[0] + 32*sum(f[1:n-1:2]) + 12*sum(f[2:n-2:4]) \\\n",
        "                        + 14*sum(f[4:n-4:4]) + 7*f[n-1])\n",
        "simpError = 12.0703463164 - simpAprox\n",
        "\n",
        "print(simpAprox)\n",
        "print(simpError)"
      ],
      "metadata": {
        "colab": {
          "base_uri": "https://localhost:8080/"
        },
        "id": "rVbppG3SSkaK",
        "outputId": "cfed8018-d421-4c8d-d51f-c91227fbd87f"
      },
      "execution_count": 45,
      "outputs": [
        {
          "output_type": "stream",
          "name": "stdout",
          "text": [
            "12.080806896128438\n",
            "-0.010460579728437835\n"
          ]
        }
      ]
    }
  ]
}