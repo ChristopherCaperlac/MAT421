{
  "nbformat": 4,
  "nbformat_minor": 0,
  "metadata": {
    "colab": {
      "provenance": [],
      "authorship_tag": "ABX9TyOVxrf0tNGSD27TmkyoV0SY",
      "include_colab_link": true
    },
    "kernelspec": {
      "name": "python3",
      "display_name": "Python 3"
    },
    "language_info": {
      "name": "python"
    }
  },
  "cells": [
    {
      "cell_type": "markdown",
      "metadata": {
        "id": "view-in-github",
        "colab_type": "text"
      },
      "source": [
        "<a href=\"https://colab.research.google.com/github/ChristopherCaperlac/MAT421/blob/main/Module_A_Section_9_1%2C_9_2%2C_9_3.ipynb\" target=\"_parent\"><img src=\"https://colab.research.google.com/assets/colab-badge.svg\" alt=\"Open In Colab\"/></a>"
      ]
    },
    {
      "cell_type": "markdown",
      "source": [
        "**Base-N and Binary:** In base-10, there are 10 different symbols that can occupy a single space called a digit. These digits can be grouped and ordered such that leftmost digits are greater in \"significance\" or value than rightmost digits. In base-n, there are n unique symbols that can occupy a single space. To determine the value of a digit, you multiply the face value of the digit by n powered to the distance from the ones digit. In base ten, if a digit has a face value of 6 and is one away from the ones digit; then it has an actual value of 60."
      ],
      "metadata": {
        "id": "_FgzLdot_GJh"
      }
    },
    {
      "cell_type": "code",
      "source": [
        "def actualValue(faceValue, base, distanceFromOnes):\n",
        "  if faceValue >= base or faceValue < 0:\n",
        "    raise Exception(\"faceValue is invalid under base system\")\n",
        "  return faceValue * (base**distanceFromOnes)\n",
        "\n",
        "# 315 in base 7\n",
        "sum = 0\n",
        "sum += actualValue(3,7,2)\n",
        "sum += actualValue(1,7,1)\n",
        "sum += actualValue(5,7,0)\n",
        "print(sum)"
      ],
      "metadata": {
        "colab": {
          "base_uri": "https://localhost:8080/"
        },
        "id": "VgFI0hW4_GA7",
        "outputId": "11f0ac99-cfea-4a53-939b-edbb5105d9b0"
      },
      "execution_count": 7,
      "outputs": [
        {
          "output_type": "stream",
          "name": "stdout",
          "text": [
            "159\n"
          ]
        }
      ]
    },
    {
      "cell_type": "markdown",
      "source": [
        "**Floating Point Numbers:** Instead of storing exact representation of real numbers, computer store an approximate precise representation. Computer use floating point numbers to store essentially a scientific notation representation of a number to a certain amount of digits after the decimal. This grants a large range of numbers of different orders of magnitude with a degree of precision.\n",
        "\n",
        "**Round-off Errors:** Because real numbers are stored by their approximate values, there is a margin of error between the real number and the appproximate number. This is called round-off error and can propagate across calculations if a sufficiently large amount of round-off errors occur in calculations."
      ],
      "metadata": {
        "id": "p1QzumvBDjNc"
      }
    },
    {
      "cell_type": "code",
      "source": [
        "# different ways of getting round off errors\n",
        "print(0.3 + 0.3 + 0.3)\n",
        "print((0.9**(1/2))**2)\n",
        "print((0.1 + 0.2)*3)\n",
        "print(8.1/9)\n",
        "print(0.9)"
      ],
      "metadata": {
        "colab": {
          "base_uri": "https://localhost:8080/"
        },
        "id": "wSMJmdG3E19s",
        "outputId": "0dbb9780-ba74-4cec-f44b-50c985621ff2"
      },
      "execution_count": 41,
      "outputs": [
        {
          "output_type": "stream",
          "name": "stdout",
          "text": [
            "0.8999999999999999\n",
            "0.8999999999999999\n",
            "0.9000000000000001\n",
            "0.8999999999999999\n",
            "0.9\n"
          ]
        }
      ]
    }
  ]
}