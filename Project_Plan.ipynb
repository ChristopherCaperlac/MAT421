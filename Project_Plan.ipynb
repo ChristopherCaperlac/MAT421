{
  "nbformat": 4,
  "nbformat_minor": 0,
  "metadata": {
    "colab": {
      "provenance": [],
      "authorship_tag": "ABX9TyMQ9n9Yt0MLL52yyUgj+9Si",
      "include_colab_link": true
    },
    "kernelspec": {
      "name": "python3",
      "display_name": "Python 3"
    },
    "language_info": {
      "name": "python"
    }
  },
  "cells": [
    {
      "cell_type": "markdown",
      "metadata": {
        "id": "view-in-github",
        "colab_type": "text"
      },
      "source": [
        "<a href=\"https://colab.research.google.com/github/CoolWolfy96/MAT421/blob/main/Project_Plan.ipynb\" target=\"_parent\"><img src=\"https://colab.research.google.com/assets/colab-badge.svg\" alt=\"Open In Colab\"/></a>"
      ]
    },
    {
      "cell_type": "markdown",
      "source": [
        "## **Introduction to Problems:**\n",
        "Chess, despite a relatively simple set of rules, continues to be quite a popular board game, boasting millions of chess players online and in-person. It has been studied extensively throughout history with a catalog of chess opening guides and theory books that explores the opening, middlegame, and endgame of chess in depth. Players have pondered over all manners of strategy and tactics, hoping to gain an edge in winning a game of chess. Because of the continued desire to understand and get better at chess, mathmaticians and computer scientists have also analyzed aspects of chess through a more analytical approach.\n",
        "\n",
        "One aspect is the growth of the amount of possible chess positions after n number of player moves. In terms of Big O notation, the function f(n), which describes the amount of possible board layouts after n moves, is exponential. Estimates for the constant seems to be around 35-40, which would give O(35^n)."
      ],
      "metadata": {
        "id": "hBo1HAQb7bBp"
      }
    },
    {
      "cell_type": "code",
      "execution_count": null,
      "metadata": {
        "colab": {
          "base_uri": "https://localhost:8080/"
        },
        "id": "8UYfEX0G7ZIr",
        "outputId": "5d2b19ac-ab1c-4bfd-f4e7-c1604e4d8e04"
      },
      "outputs": [
        {
          "output_type": "stream",
          "name": "stdout",
          "text": [
            "Ply:0 there are approximately 1 chess positions\n",
            "Ply:1 there are approximately 35 chess positions\n",
            "Ply:2 there are approximately 1225 chess positions\n",
            "Ply:3 there are approximately 42875 chess positions\n",
            "Ply:4 there are approximately 1500625 chess positions\n",
            "Ply:5 there are approximately 52521875 chess positions\n",
            "Ply:6 there are approximately 1838265625 chess positions\n",
            "Ply:7 there are approximately 64339296875 chess positions\n",
            "Ply:8 there are approximately 2251875390625 chess positions\n",
            "Ply:9 there are approximately 78815638671875 chess positions\n",
            "Ply:10 there are approximately 2758547353515625 chess positions\n"
          ]
        }
      ],
      "source": [
        "def chessPositions(x):\n",
        "  return 35**x\n",
        "for i in range(11):\n",
        "  print(\"Ply:\" + str(i) + \" there are approximately \" + str(chessPositions(i)) + \" chess positions\")"
      ]
    },
    {
      "cell_type": "markdown",
      "source": [
        "Another more important consideration is the best move(s) given a random board position. As was already calculated before, the branching factor is around 35. In this case, it would not be possible to directly calculate the best first move of the game based solely on the criteria of shortest checkmate. Even in endgames, an exponential amount of calculations proves prohibitively expensive in computations. Instead, humans and computers alike can use heuristics to score and determine good board positions from bad ones. Pruning away bad candidate moves in exchange for exploring more promising moves. A simple heuristic is the pointing system of the different pieces: pawns are one point, knights and bishops are three points, rooks are five points, and queens are nine points."
      ],
      "metadata": {
        "id": "9hYFlouIDZxG"
      }
    },
    {
      "cell_type": "code",
      "source": [
        "def chessPoints(pawns, knights, bishops, rooks, queens):\n",
        "  return pawns + 3*(knights + bishops) + 5*rooks + 9*queens\n",
        "print(\"At the beginning both players have \" + str(chessPoints(8,2,2,2,1)) + \" points according to this heuristic\")\n",
        "print(\"With a queen vs two rooks endgame, \" + str(chessPoints(0,0,0,2,0) - chessPoints(0,0,0,0,1)) + \" points advantage according to this heuristic\")\n",
        "print(\"With a two knights vs two biships endgame, \" + str(chessPoints(0,2,0,0,0) - chessPoints(0,0,2,0,0)) + \" points advantage according to this heuristic\")\n",
        "print(\"With a rook vs two pawns endgame, \" + str(chessPoints(0,0,0,1,0) - chessPoints(2,0,0,0,0)) + \" points advantage according to this heuristic\")"
      ],
      "metadata": {
        "colab": {
          "base_uri": "https://localhost:8080/"
        },
        "id": "cAHJFaUtHAex",
        "outputId": "65fd987d-4b3e-4936-f416-389866d2be5d"
      },
      "execution_count": null,
      "outputs": [
        {
          "output_type": "stream",
          "name": "stdout",
          "text": [
            "At the beginning both players have 39 points according to this heuristic\n",
            "With a queen vs two rooks endgame, 1 points advantage according to this heuristic\n",
            "With a two knights vs two biships endgame, 0 points advantage according to this heuristic\n",
            "With a rook vs two pawns endgame, 3 points advantage according to this heuristic\n"
          ]
        }
      ]
    },
    {
      "cell_type": "markdown",
      "source": [
        "Another heuristic to consider is positional advantage. Pieces that occupy or attack the center squares are more valuable than those that lie on the edge files. In addition, a piece that has its maximum amount of moves can also be powerful and versitile. Tactical heuristic include hanging pieces, pins, forks, and skewers.\n",
        "\n",
        "\n",
        "![Chess_Center.png](data:image/png;base64,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)"
      ],
      "metadata": {
        "id": "2NgDansNKw0a"
      }
    },
    {
      "cell_type": "markdown",
      "source": [
        "## **Models and Numerical Methods:**\n",
        "\n",
        "Programs that implement these kind of heuristics or other methods in trying to find the best move in a position are called chess engines. Two of the best chess engine include Stockfish and Leela Chess Zero. Stockfish imploys a minmax algorithm with alpha-beta pruning and a neural network to evaluate the value of a board position. On the other hand, Leela Chess Zero is a pure neural network chess engine that has learned to play by competing against itself countless times. These chess engine are estimated to be better than the top players by a big margin with estimated elos above 3000.\n",
        "\n",
        "Besides determing the best chess moves in a position, chess engines can be used to determine an interesting question: Who is the best chess player in history? While this may seem simple at first, the difficulty lies in determining what a good chess player is. Elo is certainly one measure, but elo is a relative rating scale and cannot be reliably used to compare people in different player pools. In this case, one can analyze games played by top grandmasters: comparing what top chess engines suggest are the correct moves versus what was actually played by the grandmasters.\n",
        "\n",
        "In order to answer the question of who the best chess player in history is, I will analyze a subset of games played by some of the top grandmasters and world champions. I will gather datapoints on the percentage of correct engine moves played by each possible candidate. Afterwards, I will compare the percentages of each player to determine who is the best chess player.\n",
        "\n",
        "\n",
        "Works Cited:\n",
        "\n",
        "https://www.chessgames.com/. Chess Games Database\n",
        "\n",
        "\n",
        "“Chess Pieces Value - Chess Terms.” Chess.Com, www.chess.com/terms/chess-piece-value#:~:text=Chess%20Piece%20Values,-As%20mentioned%2C%20each&text=It%20should%20come%20as%20no,t%20have%20a%20point%20value. Accessed 25 Feb. 2024.\n",
        "\n",
        "\n",
        "Olson, Dr. Randal S. A Data-Driven Exploration of the Evolution of Chess: Popularity of Openings over Time, randalolson.com/2014/05/26/a-data-driven-exploration-of-the-evolution-of-chess-popularity-of-openings/. Accessed 25 Feb. 2024."
      ],
      "metadata": {
        "id": "Ib-sLueZPZy8"
      }
    }
  ]
}