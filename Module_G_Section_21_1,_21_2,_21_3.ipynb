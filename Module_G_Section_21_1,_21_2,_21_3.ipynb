{
  "nbformat": 4,
  "nbformat_minor": 0,
  "metadata": {
    "colab": {
      "provenance": [],
      "authorship_tag": "ABX9TyPXmkJBXJ4Xv6l8RpNkOFav",
      "include_colab_link": true
    },
    "kernelspec": {
      "name": "python3",
      "display_name": "Python 3"
    },
    "language_info": {
      "name": "python"
    }
  },
  "cells": [
    {
      "cell_type": "markdown",
      "metadata": {
        "id": "view-in-github",
        "colab_type": "text"
      },
      "source": [
        "<a href=\"https://colab.research.google.com/github/CoolWolfy96/MAT421/blob/main/Module_G_Section_21_1%2C_21_2%2C_21_3.ipynb\" target=\"_parent\"><img src=\"https://colab.research.google.com/assets/colab-badge.svg\" alt=\"Open In Colab\"/></a>"
      ]
    },
    {
      "cell_type": "markdown",
      "source": [
        "**Numerical Integration Problem Statement:** Integration is even more difficult than differentiation in terms of symbolic solutions, so a better and faster way of computing integrals is by using numerical methods. (See integral of the square root of sin(x) for a complicated symbolic integral)\n",
        "\n",
        "**Riemann's Integral:** The simple textbook method of finding an integral over an interval is by calculating the Riemann sum of certain shapes like a rectangle with the length of one step and height of the left, middle, or right point it intersects. The accuracy of the left and right rule is O(h) while the midpoint rule gives an accuracy of O(h^2)."
      ],
      "metadata": {
        "id": "PZ9x-jLXVgy2"
      }
    },
    {
      "cell_type": "code",
      "source": [
        "import numpy as np\n",
        "# from textbook but find integral of sqrt(sin(x)) from 0 to pi\n",
        "a = 0\n",
        "b = np.pi\n",
        "n = 11\n",
        "h = (b - a) / (n - 1)\n",
        "x = np.linspace(a, b, n)\n",
        "x2 = np.linspace(a+h/2, b-h/2, n-1)\n",
        "f = np.sqrt(np.sin(x))\n",
        "f2 = np.sqrt(np.sin(x2))\n",
        "\n",
        "riemannLeft = h * sum(f[:n-1])\n",
        "riemannLeftError = 2.39628046947 - riemannLeft\n",
        "\n",
        "riemannRight = h * sum(f[1::])\n",
        "riemannRightError = 2.39628046947 - riemannRight\n",
        "\n",
        "riemannMid = h * sum(f2[:])\n",
        "riemannMidError = 2.39628046947 - riemannMid\n",
        "\n",
        "print(riemannLeft)\n",
        "print(riemannLeftError)\n",
        "\n",
        "print(riemannRight)\n",
        "print(riemannRightError)\n",
        "\n",
        "print(riemannMid)\n",
        "print(riemannMidError)"
      ],
      "metadata": {
        "colab": {
          "base_uri": "https://localhost:8080/"
        },
        "id": "qYZWiTsxY8kA",
        "outputId": "41000f5f-2552-49d2-9cfd-1a214d82767a"
      },
      "execution_count": 46,
      "outputs": [
        {
          "output_type": "stream",
          "name": "stdout",
          "text": [
            "2.32304408838008\n",
            "0.07323638108992014\n",
            "2.323044091856685\n",
            "0.07323637761331536\n",
            "2.4177439966289356\n",
            "-0.021463527158935403\n"
          ]
        }
      ]
    },
    {
      "cell_type": "markdown",
      "source": [
        "**Trapezoid Rule:** Another way of calculating Riemann taught in introductory calculus is by using the trapezoid rule which is the sum of trapezoids with lengths of the step and heights corrosponding to the left and right point that intersect. This rule also gives an accuracy of O(h^2)."
      ],
      "metadata": {
        "id": "1C21d3T1g-vl"
      }
    },
    {
      "cell_type": "code",
      "source": [
        "import numpy as np\n",
        "# from textbook but finding integral of sqrt(sin(x)) from 0 to pi\n",
        "# using trapezoid rule this time\n",
        "a = 0\n",
        "b = np.pi\n",
        "n = 11\n",
        "h = (b - a) / (n - 1)\n",
        "x = np.linspace(a, b, n)\n",
        "f = np.sqrt(np.sin(x))\n",
        "\n",
        "riemannTrapezoid = (h/2)*(f[0] + 2*sum(f[1:n-1]) + f[n-1])\n",
        "\n",
        "riemannTrapezoidError = 2.39628046947 - riemannTrapezoid\n",
        "\n",
        "print(riemannTrapezoid)\n",
        "print(riemannTrapezoidError)"
      ],
      "metadata": {
        "colab": {
          "base_uri": "https://localhost:8080/"
        },
        "id": "56Gz2Pn8iguC",
        "outputId": "b9e555fd-7ae4-4bf7-bf09-e02d4c4ebe68"
      },
      "execution_count": 47,
      "outputs": [
        {
          "output_type": "stream",
          "name": "stdout",
          "text": [
            "2.3230440901183824\n",
            "0.07323637935161775\n"
          ]
        }
      ]
    }
  ]
}